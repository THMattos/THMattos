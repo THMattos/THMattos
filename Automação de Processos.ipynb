{
 "cells": [
  {
   "cell_type": "markdown",
   "id": "b226e3ae",
   "metadata": {},
   "source": [
    "# Problema a ser Resolvido"
   ]
  },
  {
   "cell_type": "markdown",
   "id": "a9ac77fd",
   "metadata": {},
   "source": [
    "- Buscar de automática,informações de ações da bolsa de valores;\n",
    "- Criar as análises solicitadas pelo Gestor;\n",
    "- Enviar automaticamente,um email com os resultados das análises;"
   ]
  },
  {
   "cell_type": "markdown",
   "id": "8fd7053c",
   "metadata": {},
   "source": [
    "# Bibliotecas"
   ]
  },
  {
   "cell_type": "code",
   "execution_count": 1,
   "id": "a094765c",
   "metadata": {},
   "outputs": [
    {
     "name": "stdout",
     "output_type": "stream",
     "text": [
      "Collecting yfinance\n",
      "  Obtaining dependency information for yfinance from https://files.pythonhosted.org/packages/e6/b3/388ab967a387cc92926f70e97688dd9a7189b29a0773db815ffc5289e2b5/yfinance-0.2.31-py2.py3-none-any.whl.metadata\n",
      "  Downloading yfinance-0.2.31-py2.py3-none-any.whl.metadata (11 kB)\n",
      "Requirement already satisfied: pandas>=1.3.0 in c:\\programdata\\anaconda3\\lib\\site-packages (from yfinance) (2.0.3)\n",
      "Requirement already satisfied: numpy>=1.16.5 in c:\\programdata\\anaconda3\\lib\\site-packages (from yfinance) (1.24.3)\n",
      "Requirement already satisfied: requests>=2.31 in c:\\programdata\\anaconda3\\lib\\site-packages (from yfinance) (2.31.0)\n",
      "Collecting multitasking>=0.0.7 (from yfinance)\n",
      "  Downloading multitasking-0.0.11-py3-none-any.whl (8.5 kB)\n",
      "Requirement already satisfied: lxml>=4.9.1 in c:\\programdata\\anaconda3\\lib\\site-packages (from yfinance) (4.9.3)\n",
      "Requirement already satisfied: appdirs>=1.4.4 in c:\\programdata\\anaconda3\\lib\\site-packages (from yfinance) (1.4.4)\n",
      "Requirement already satisfied: pytz>=2022.5 in c:\\programdata\\anaconda3\\lib\\site-packages (from yfinance) (2023.3.post1)\n",
      "Collecting frozendict>=2.3.4 (from yfinance)\n",
      "  Downloading frozendict-2.3.8-py311-none-any.whl (14 kB)\n",
      "Collecting peewee>=3.16.2 (from yfinance)\n",
      "  Downloading peewee-3.17.0.tar.gz (2.9 MB)\n",
      "     ---------------------------------------- 0.0/2.9 MB ? eta -:--:--\n",
      "     ------------ --------------------------- 0.9/2.9 MB 30.1 MB/s eta 0:00:01\n",
      "     ---------------------------------------  2.9/2.9 MB 46.5 MB/s eta 0:00:01\n",
      "     ---------------------------------------  2.9/2.9 MB 46.5 MB/s eta 0:00:01\n",
      "     ---------------------------------------- 2.9/2.9 MB 23.5 MB/s eta 0:00:00\n",
      "  Installing build dependencies: started\n",
      "  Installing build dependencies: finished with status 'done'\n",
      "  Getting requirements to build wheel: started\n",
      "  Getting requirements to build wheel: finished with status 'done'\n",
      "  Preparing metadata (pyproject.toml): started\n",
      "  Preparing metadata (pyproject.toml): finished with status 'done'\n",
      "Requirement already satisfied: beautifulsoup4>=4.11.1 in c:\\programdata\\anaconda3\\lib\\site-packages (from yfinance) (4.12.2)\n",
      "Collecting html5lib>=1.1 (from yfinance)\n",
      "  Downloading html5lib-1.1-py2.py3-none-any.whl (112 kB)\n",
      "     ---------------------------------------- 0.0/112.2 kB ? eta -:--:--\n",
      "     ---------------------------------------- 112.2/112.2 kB ? eta 0:00:00\n",
      "Requirement already satisfied: soupsieve>1.2 in c:\\programdata\\anaconda3\\lib\\site-packages (from beautifulsoup4>=4.11.1->yfinance) (2.4)\n",
      "Requirement already satisfied: six>=1.9 in c:\\programdata\\anaconda3\\lib\\site-packages (from html5lib>=1.1->yfinance) (1.16.0)\n",
      "Requirement already satisfied: webencodings in c:\\programdata\\anaconda3\\lib\\site-packages (from html5lib>=1.1->yfinance) (0.5.1)\n",
      "Requirement already satisfied: python-dateutil>=2.8.2 in c:\\programdata\\anaconda3\\lib\\site-packages (from pandas>=1.3.0->yfinance) (2.8.2)\n",
      "Requirement already satisfied: tzdata>=2022.1 in c:\\programdata\\anaconda3\\lib\\site-packages (from pandas>=1.3.0->yfinance) (2023.3)\n",
      "Requirement already satisfied: charset-normalizer<4,>=2 in c:\\programdata\\anaconda3\\lib\\site-packages (from requests>=2.31->yfinance) (2.0.4)\n",
      "Requirement already satisfied: idna<4,>=2.5 in c:\\programdata\\anaconda3\\lib\\site-packages (from requests>=2.31->yfinance) (3.4)\n",
      "Requirement already satisfied: urllib3<3,>=1.21.1 in c:\\programdata\\anaconda3\\lib\\site-packages (from requests>=2.31->yfinance) (1.26.16)\n",
      "Requirement already satisfied: certifi>=2017.4.17 in c:\\programdata\\anaconda3\\lib\\site-packages (from requests>=2.31->yfinance) (2023.7.22)\n",
      "Downloading yfinance-0.2.31-py2.py3-none-any.whl (65 kB)\n",
      "   ---------------------------------------- 0.0/65.6 kB ? eta -:--:--\n",
      "   ---------------------------------------- 65.6/65.6 kB ? eta 0:00:00\n",
      "Building wheels for collected packages: peewee\n",
      "  Building wheel for peewee (pyproject.toml): started\n",
      "  Building wheel for peewee (pyproject.toml): finished with status 'done'\n",
      "  Created wheel for peewee: filename=peewee-3.17.0-py3-none-any.whl size=135767 sha256=1727a5be2206dca45b89257ef07d0f00656ca6a1531da292b89594b7e05681c9\n",
      "  Stored in directory: c:\\users\\administrador\\appdata\\local\\pip\\cache\\wheels\\02\\20\\23\\74a10d0cd31f5d41c19b92ddf4c138ceff01b9f4675f19dbf5\n",
      "Successfully built peewee\n",
      "Installing collected packages: peewee, multitasking, html5lib, frozendict, yfinance\n",
      "Successfully installed frozendict-2.3.8 html5lib-1.1 multitasking-0.0.11 peewee-3.17.0 yfinance-0.2.31\n"
     ]
    }
   ],
   "source": [
    "!pip install yfinance"
   ]
  },
  {
   "cell_type": "code",
   "execution_count": 2,
   "id": "a4ed3abe",
   "metadata": {},
   "outputs": [
    {
     "name": "stdout",
     "output_type": "stream",
     "text": [
      "Collecting pyautogui\n",
      "  Downloading PyAutoGUI-0.9.54.tar.gz (61 kB)\n",
      "     ---------------------------------------- 0.0/61.2 kB ? eta -:--:--\n",
      "     ------------ ------------------------- 20.5/61.2 kB 320.0 kB/s eta 0:00:01\n",
      "     ------------------------- ------------ 41.0/61.2 kB 326.8 kB/s eta 0:00:01\n",
      "     -------------------------------------- 61.2/61.2 kB 463.6 kB/s eta 0:00:00\n",
      "  Installing build dependencies: started\n",
      "  Installing build dependencies: finished with status 'done'\n",
      "  Getting requirements to build wheel: started\n",
      "  Getting requirements to build wheel: finished with status 'done'\n",
      "  Preparing metadata (pyproject.toml): started\n",
      "  Preparing metadata (pyproject.toml): finished with status 'done'\n",
      "Collecting pymsgbox (from pyautogui)\n",
      "  Downloading PyMsgBox-1.0.9.tar.gz (18 kB)\n",
      "  Installing build dependencies: started\n",
      "  Installing build dependencies: finished with status 'done'\n",
      "  Getting requirements to build wheel: started\n",
      "  Getting requirements to build wheel: finished with status 'done'\n",
      "  Preparing metadata (pyproject.toml): started\n",
      "  Preparing metadata (pyproject.toml): finished with status 'done'\n",
      "Collecting pytweening>=1.0.4 (from pyautogui)\n",
      "  Downloading pytweening-1.0.7.tar.gz (168 kB)\n",
      "     ---------------------------------------- 0.0/168.2 kB ? eta -:--:--\n",
      "     ------------------------------------- 168.2/168.2 kB 10.5 MB/s eta 0:00:00\n",
      "  Preparing metadata (setup.py): started\n",
      "  Preparing metadata (setup.py): finished with status 'done'\n",
      "Collecting pyscreeze>=0.1.21 (from pyautogui)\n",
      "  Downloading PyScreeze-0.1.29.tar.gz (25 kB)\n",
      "  Installing build dependencies: started\n",
      "  Installing build dependencies: finished with status 'done'\n",
      "  Getting requirements to build wheel: started\n",
      "  Getting requirements to build wheel: finished with status 'done'\n",
      "  Preparing metadata (pyproject.toml): started\n",
      "  Preparing metadata (pyproject.toml): finished with status 'done'\n",
      "Collecting pygetwindow>=0.0.5 (from pyautogui)\n",
      "  Downloading PyGetWindow-0.0.9.tar.gz (9.7 kB)\n",
      "  Preparing metadata (setup.py): started\n",
      "  Preparing metadata (setup.py): finished with status 'done'\n",
      "Collecting mouseinfo (from pyautogui)\n",
      "  Downloading MouseInfo-0.1.3.tar.gz (10 kB)\n",
      "  Preparing metadata (setup.py): started\n",
      "  Preparing metadata (setup.py): finished with status 'done'\n",
      "Collecting pyrect (from pygetwindow>=0.0.5->pyautogui)\n",
      "  Downloading PyRect-0.2.0.tar.gz (17 kB)\n",
      "  Preparing metadata (setup.py): started\n",
      "  Preparing metadata (setup.py): finished with status 'done'\n",
      "Collecting pyscreenshot (from pyscreeze>=0.1.21->pyautogui)\n",
      "  Downloading pyscreenshot-3.1-py3-none-any.whl (28 kB)\n",
      "Requirement already satisfied: Pillow>=9.3.0 in c:\\programdata\\anaconda3\\lib\\site-packages (from pyscreeze>=0.1.21->pyautogui) (9.4.0)\n",
      "Collecting pyperclip (from mouseinfo->pyautogui)\n",
      "  Downloading pyperclip-1.8.2.tar.gz (20 kB)\n",
      "  Preparing metadata (setup.py): started\n",
      "  Preparing metadata (setup.py): finished with status 'done'\n",
      "Collecting EasyProcess (from pyscreenshot->pyscreeze>=0.1.21->pyautogui)\n",
      "  Downloading EasyProcess-1.1-py3-none-any.whl (8.7 kB)\n",
      "Collecting entrypoint2 (from pyscreenshot->pyscreeze>=0.1.21->pyautogui)\n",
      "  Downloading entrypoint2-1.1-py2.py3-none-any.whl (9.9 kB)\n",
      "Collecting mss (from pyscreenshot->pyscreeze>=0.1.21->pyautogui)\n",
      "  Downloading mss-9.0.1-py3-none-any.whl (22 kB)\n",
      "Building wheels for collected packages: pyautogui, pygetwindow, pyscreeze, pytweening, mouseinfo, pymsgbox, pyperclip, pyrect\n",
      "  Building wheel for pyautogui (pyproject.toml): started\n",
      "  Building wheel for pyautogui (pyproject.toml): finished with status 'done'\n",
      "  Created wheel for pyautogui: filename=PyAutoGUI-0.9.54-py3-none-any.whl size=37597 sha256=4cde998171383c4778a690a6b9c0512e145fa47fca055a1071a1d85f295edc01\n",
      "  Stored in directory: c:\\users\\administrador\\appdata\\local\\pip\\cache\\wheels\\95\\dc\\b1\\fe122b791e0db8bf439a0e6e1d2628e48f10bf430cae13521b\n",
      "  Building wheel for pygetwindow (setup.py): started\n",
      "  Building wheel for pygetwindow (setup.py): finished with status 'done'\n",
      "  Created wheel for pygetwindow: filename=PyGetWindow-0.0.9-py3-none-any.whl size=11079 sha256=59e1cb544eda5d8b0aefa54410110d487e419026dccb5c1698369daf7653b32c\n",
      "  Stored in directory: c:\\users\\administrador\\appdata\\local\\pip\\cache\\wheels\\07\\75\\0b\\7ca0b598eb4c21d43ba4bcc78a0538dfcf803a5997da33bc19\n",
      "  Building wheel for pyscreeze (pyproject.toml): started\n",
      "  Building wheel for pyscreeze (pyproject.toml): finished with status 'done'\n",
      "  Created wheel for pyscreeze: filename=PyScreeze-0.1.29-py3-none-any.whl size=13484 sha256=feb8ae3c6dcb32fb2378fec5417a39a2534dd74092a9017053dc65aa0ce8ebe8\n",
      "  Stored in directory: c:\\users\\administrador\\appdata\\local\\pip\\cache\\wheels\\d3\\bd\\06\\4b4c57f65e89d1ab7a63a924c12aca4784cd95e74940371b5e\n",
      "  Building wheel for pytweening (setup.py): started\n",
      "  Building wheel for pytweening (setup.py): finished with status 'done'\n",
      "  Created wheel for pytweening: filename=pytweening-1.0.7-py3-none-any.whl size=6214 sha256=f37fa31f1fde9ddaed888b133a5fd9a966e8aaa32a3e42824e45f52b27afc927\n",
      "  Stored in directory: c:\\users\\administrador\\appdata\\local\\pip\\cache\\wheels\\b2\\9b\\02\\059beba389e7e31a635bd9e8d9b7299f4ec11caca1f237f56d\n",
      "  Building wheel for mouseinfo (setup.py): started\n",
      "  Building wheel for mouseinfo (setup.py): finished with status 'done'\n",
      "  Created wheel for mouseinfo: filename=MouseInfo-0.1.3-py3-none-any.whl size=10906 sha256=f28489eb9ee1025a89316ad8ff2e3bd1c41c4c7b6af76f90a0d5b924efc1bb69\n",
      "  Stored in directory: c:\\users\\administrador\\appdata\\local\\pip\\cache\\wheels\\20\\0b\\7f\\939ac9ff785b09951c706150537572c00123412f260a6024f3\n",
      "  Building wheel for pymsgbox (pyproject.toml): started\n",
      "  Building wheel for pymsgbox (pyproject.toml): finished with status 'done'\n",
      "  Created wheel for pymsgbox: filename=PyMsgBox-1.0.9-py3-none-any.whl size=7417 sha256=b9d9e648ad88d006924824f913c888c3d83849daf7a72f5b8b40c2d713f7516b\n",
      "  Stored in directory: c:\\users\\administrador\\appdata\\local\\pip\\cache\\wheels\\85\\92\\63\\e126ee5f33d8f2ed04f96e43ef5df7270a2f331848752e8662\n",
      "  Building wheel for pyperclip (setup.py): started\n",
      "  Building wheel for pyperclip (setup.py): finished with status 'done'\n",
      "  Created wheel for pyperclip: filename=pyperclip-1.8.2-py3-none-any.whl size=11137 sha256=7fe40f1fafc376c530b862fce6fa94f314b4c0e176b4ccd30bc8cc812d39c4ca\n",
      "  Stored in directory: c:\\users\\administrador\\appdata\\local\\pip\\cache\\wheels\\70\\bd\\ba\\8ae5c080c895c9360fe6e153acda2dee82527374467eae061b\n",
      "  Building wheel for pyrect (setup.py): started\n",
      "  Building wheel for pyrect (setup.py): finished with status 'done'\n",
      "  Created wheel for pyrect: filename=PyRect-0.2.0-py2.py3-none-any.whl size=11205 sha256=b755bfe2c20dee0ce992b2eb9c5467ac3fc19cdfe00e7d0f9a2c84c02c49564a\n",
      "  Stored in directory: c:\\users\\administrador\\appdata\\local\\pip\\cache\\wheels\\c4\\e9\\fc\\b7a666dd4f9a3168fb44d643079b41d36ddab52f470707e820\n",
      "Successfully built pyautogui pygetwindow pyscreeze pytweening mouseinfo pymsgbox pyperclip pyrect\n",
      "Installing collected packages: pytweening, pyrect, pyperclip, pymsgbox, entrypoint2, EasyProcess, pygetwindow, mss, mouseinfo, pyscreenshot, pyscreeze, pyautogui\n",
      "Successfully installed EasyProcess-1.1 entrypoint2-1.1 mouseinfo-0.1.3 mss-9.0.1 pyautogui-0.9.54 pygetwindow-0.0.9 pymsgbox-1.0.9 pyperclip-1.8.2 pyrect-0.2.0 pyscreenshot-3.1 pyscreeze-0.1.29 pytweening-1.0.7\n"
     ]
    }
   ],
   "source": [
    "!pip install pyautogui"
   ]
  },
  {
   "cell_type": "code",
   "execution_count": null,
   "id": "fe03073f",
   "metadata": {},
   "outputs": [],
   "source": [
    "!pip install pyperclip"
   ]
  },
  {
   "cell_type": "markdown",
   "id": "f07d6846",
   "metadata": {},
   "source": [
    "# Buscar informações de ações"
   ]
  },
  {
   "cell_type": "code",
   "execution_count": 15,
   "id": "954afdd3",
   "metadata": {},
   "outputs": [],
   "source": [
    "import yfinance"
   ]
  },
  {
   "cell_type": "code",
   "execution_count": 16,
   "id": "8c7d0fb5",
   "metadata": {},
   "outputs": [
    {
     "name": "stdout",
     "output_type": "stream",
     "text": [
      "Digite o código da ação: PETR4.SA\n"
     ]
    }
   ],
   "source": [
    "codigo = input(\"Digite o código da ação: \")\n",
    "\n",
    "dados= yfinance.Ticker(codigo).history(\"6mo\")\n"
   ]
  },
  {
   "cell_type": "code",
   "execution_count": 19,
   "id": "cd1c2772",
   "metadata": {},
   "outputs": [],
   "source": [
    "fechamento = dados.Close\n",
    "\n",
    "\n"
   ]
  },
  {
   "cell_type": "code",
   "execution_count": 20,
   "id": "cfe99266",
   "metadata": {},
   "outputs": [
    {
     "data": {
      "text/plain": [
       "<Axes: xlabel='Date'>"
      ]
     },
     "execution_count": 20,
     "metadata": {},
     "output_type": "execute_result"
    },
    {
     "data": {
      "image/png": "[encoded data removed]",
      "text/plain": [
       "<Figure size 640x480 with 1 Axes>"
      ]
     },
     "metadata": {},
     "output_type": "display_data"
    }
   ],
   "source": [
    "fechamento.plot()"
   ]
  },
  {
   "cell_type": "markdown",
   "id": "3be630eb",
   "metadata": {},
   "source": [
    "# Gerar Análises\n",
    "\n",
    "   _ Dos últimos 6 meses;\n",
    "   - Cotação Maxima;\n",
    "   - Cotação Atual;"
   ]
  },
  {
   "cell_type": "code",
   "execution_count": 23,
   "id": "4cf47f25",
   "metadata": {},
   "outputs": [],
   "source": [
    "maxima= round(fechamento.max(),2)\n",
    "minima= round(fechamento.min(),2)\n",
    "atual= round(fechamento[-1],2)\n"
   ]
  },
  {
   "cell_type": "code",
   "execution_count": 24,
   "id": "ea3ee32f",
   "metadata": {},
   "outputs": [
    {
     "data": {
      "text/plain": [
       "Date\n",
       "2023-04-20 00:00:00-03:00    21.476027\n",
       "2023-04-24 00:00:00-03:00    21.886398\n",
       "2023-04-25 00:00:00-03:00    21.797886\n",
       "2023-04-26 00:00:00-03:00    21.524305\n",
       "2023-04-27 00:00:00-03:00    21.001286\n",
       "                               ...    \n",
       "2023-10-16 00:00:00-03:00    36.680000\n",
       "2023-10-17 00:00:00-03:00    37.669998\n",
       "2023-10-18 00:00:00-03:00    38.520000\n",
       "2023-10-19 00:00:00-03:00    38.340000\n",
       "2023-10-20 00:00:00-03:00    37.849998\n",
       "Name: Close, Length: 127, dtype: float64"
      ]
     },
     "execution_count": 24,
     "metadata": {},
     "output_type": "execute_result"
    }
   ],
   "source": [
    "fechamento"
   ]
  },
  {
   "cell_type": "code",
   "execution_count": 39,
   "id": "2932b366",
   "metadata": {},
   "outputs": [
    {
     "data": {
      "text/plain": [
       "38.52000045776367"
      ]
     },
     "execution_count": 39,
     "metadata": {},
     "output_type": "execute_result"
    }
   ],
   "source": [
    "maxima\n"
   ]
  },
  {
   "cell_type": "code",
   "execution_count": 40,
   "id": "46fe44b9",
   "metadata": {},
   "outputs": [
    {
     "data": {
      "text/plain": [
       "20.486406326293945"
      ]
     },
     "execution_count": 40,
     "metadata": {},
     "output_type": "execute_result"
    }
   ],
   "source": [
    "minima"
   ]
  },
  {
   "cell_type": "code",
   "execution_count": 41,
   "id": "b8f6573c",
   "metadata": {},
   "outputs": [
    {
     "data": {
      "text/plain": [
       "37.849998474121094"
      ]
     },
     "execution_count": 41,
     "metadata": {},
     "output_type": "execute_result"
    }
   ],
   "source": [
    "atual"
   ]
  },
  {
   "cell_type": "code",
   "execution_count": 52,
   "id": "198ce576",
   "metadata": {},
   "outputs": [
    {
     "name": "stdout",
     "output_type": "stream",
     "text": [
      "38.52\n",
      "20.49\n",
      "37.85\n"
     ]
    }
   ],
   "source": [
    "print (maxima)\n",
    "print(minima)\n",
    "print(atual)"
   ]
  },
  {
   "cell_type": "code",
   "execution_count": 50,
   "id": "0a341a7b",
   "metadata": {},
   "outputs": [
    {
     "data": {
      "text/plain": [
       "37.85"
      ]
     },
     "execution_count": 50,
     "metadata": {},
     "output_type": "execute_result"
    }
   ],
   "source": [
    "round(37.849998474121094,2)"
   ]
  },
  {
   "cell_type": "markdown",
   "id": "5d8dcdf8",
   "metadata": {},
   "source": [
    "# Enviar e-mail automaticamente\n",
    "\n",
    " - Abrir uma nova aba no seu navegador (ctrl+ t);\n",
    " - Digitar o endereço do Gmail;\n",
    " - Clicar no botão Enter;\n",
    " - Clicar no botão escrever;\n",
    " - prencher destinário (tab);\n",
    " - preencher assunto do e-mail (tab);\n",
    " - preencher corpo do e-mail (tab);"
   ]
  },
  {
   "cell_type": "code",
   "execution_count": 3,
   "id": "175384a0",
   "metadata": {},
   "outputs": [],
   "source": [
    "import pyautogui\n",
    "import pyperclip"
   ]
  },
  {
   "cell_type": "code",
   "execution_count": null,
   "id": "ddc78c80",
   "metadata": {},
   "outputs": [],
   "source": []
  },
  {
   "cell_type": "code",
   "execution_count": 29,
   "id": "4876482d",
   "metadata": {},
   "outputs": [],
   "source": [
    "# configurando o Pyautogui para dar uma pausa de 3 segundos entre passos\n",
    "pyautogui.PAUSE= 3\n",
    "\n",
    "\n",
    "# Abrir uma nova aba; (crtl + t)\n",
    "pyautogui.hotkey(\"ctrl\", \"t\")\n",
    "\n",
    "# Digitar o endereço do Gmail;\n",
    "pyperclip.copy(\"www.gmail.com\")\n",
    "pyautogui.hotkey(\"ctrl\", \"v\")\n",
    "pyautogui.hotkey(\"enter\")\n",
    "\n",
    "# clicar no botão escrever \n",
    "pyautogui.click(x=246, y=632)\n",
    "\n",
    "# preencher o destinatário (clicar tab)\n",
    "pyperclip.copy(\"thiagodemattos25@gmail.com\")\n",
    "pyautogui.hotkey(\"ctrl\", \"v\")\n",
    "pyautogui.hotkey(\"tab\") \n",
    "\n",
    "# preencher assunto (clicar tab)\n",
    "pyperclip.copy(\"Análises Diárias\")\n",
    "pyautogui.hotkey(\"ctrl\", \"v\")\n",
    "pyautogui.hotkey(\"tab\") \n",
    "\n",
    "# preencher corpo do email \n",
    "mensagem= f\"\"\"\n",
    "Prezado Gestor,\n",
    "\n",
    "Seguem as análises diárias da ação {codigo} referentes  aos últimos seis meses:\n",
    "\n",
    "Cotação máxima: R${maxima}\n",
    "Cotação mínima: R${minima}\n",
    "Cotação atual:  R${atual}\n",
    "\n",
    "Qualquer dúvida,estou à disposição!\n",
    "\n",
    "\n",
    "\"\"\"\n",
    "\n",
    "pyperclip.copy(mensagem)\n",
    "pyautogui.hotkey(\"ctrl\", \"v\")\n",
    "\n",
    "pyautogui.click(x=2290, y=1956)\n",
    "\n",
    "\n",
    "    "
   ]
  },
  {
   "cell_type": "code",
   "execution_count": 28,
   "id": "377aead5",
   "metadata": {},
   "outputs": [
    {
     "data": {
      "text/plain": [
       "Point(x=2290, y=1956)"
      ]
     },
     "execution_count": 28,
     "metadata": {},
     "output_type": "execute_result"
    }
   ],
   "source": [
    "import time\n",
    "\n",
    "time.sleep(8)\n",
    "pyautogui.position()"
   ]
  },
  {
   "cell_type": "code",
   "execution_count": null,
   "id": "1cb322b7",
   "metadata": {},
   "outputs": [],
   "source": []
  },
  {
   "cell_type": "code",
   "execution_count": null,
   "id": "0c5dcff4",
   "metadata": {},
   "outputs": [],
   "source": []
  },
  {
   "cell_type": "code",
   "execution_count": null,
   "id": "d88b7721",
   "metadata": {},
   "outputs": [],
   "source": []
  }
 ],
 "metadata": {
  "kernelspec": {
   "display_name": "Python 3 (ipykernel)",
   "language": "python",
   "name": "python3"
  },
  "language_info": {
   "codemirror_mode": {
    "name": "ipython",
    "version": 3
   },
   "file_extension": ".py",
   "mimetype": "text/x-python",
   "name": "python",
   "nbconvert_exporter": "python",
   "pygments_lexer": "ipython3",
   "version": "3.11.5"
  }
 },
 "nbformat": 4,
 "nbformat_minor": 5
}
